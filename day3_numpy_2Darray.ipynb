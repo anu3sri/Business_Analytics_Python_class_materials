{
 "cells": [
  {
   "cell_type": "markdown",
   "id": "53ca3a18",
   "metadata": {},
   "source": [
    "### 2D array"
   ]
  },
  {
   "cell_type": "code",
   "execution_count": 2,
   "id": "4a707292",
   "metadata": {},
   "outputs": [],
   "source": [
    "import numpy as np"
   ]
  },
  {
   "cell_type": "code",
   "execution_count": 3,
   "id": "9cef908f",
   "metadata": {},
   "outputs": [
    {
     "data": {
      "text/plain": [
       "array([[ 2,  3,  7],\n",
       "       [ 8, 67,  4],\n",
       "       [15, 48, 93],\n",
       "       [56,  3, 38]])"
      ]
     },
     "execution_count": 3,
     "metadata": {},
     "output_type": "execute_result"
    }
   ],
   "source": [
    "a=np.array([[2,3,7],[8,67,4],[15,48,93],[56,3,38]])\n",
    "a"
   ]
  },
  {
   "cell_type": "markdown",
   "id": "93983e82",
   "metadata": {},
   "source": [
    "### Index of [Row][Column]"
   ]
  },
  {
   "cell_type": "code",
   "execution_count": 5,
   "id": "a0683070",
   "metadata": {},
   "outputs": [
    {
     "data": {
      "text/plain": [
       "93"
      ]
     },
     "execution_count": 5,
     "metadata": {},
     "output_type": "execute_result"
    }
   ],
   "source": [
    "a[2][2]"
   ]
  },
  {
   "cell_type": "markdown",
   "id": "20181341",
   "metadata": {},
   "source": [
    "### Index(R,C)"
   ]
  },
  {
   "cell_type": "code",
   "execution_count": 6,
   "id": "b8405d77",
   "metadata": {},
   "outputs": [
    {
     "data": {
      "text/plain": [
       "array([56,  3, 38])"
      ]
     },
     "execution_count": 6,
     "metadata": {},
     "output_type": "execute_result"
    }
   ],
   "source": [
    "a[3,:]"
   ]
  },
  {
   "cell_type": "code",
   "execution_count": 7,
   "id": "73c739ae",
   "metadata": {},
   "outputs": [
    {
     "data": {
      "text/plain": [
       "array([[ 3,  7],\n",
       "       [67,  4],\n",
       "       [48, 93],\n",
       "       [ 3, 38]])"
      ]
     },
     "execution_count": 7,
     "metadata": {},
     "output_type": "execute_result"
    }
   ],
   "source": [
    "a[:,(1,2)]"
   ]
  },
  {
   "cell_type": "code",
   "execution_count": 9,
   "id": "9c2e4cc2",
   "metadata": {
    "scrolled": true
   },
   "outputs": [
    {
     "data": {
      "text/plain": [
       "array([[56,  3, 38],\n",
       "       [ 8, 67,  4]])"
      ]
     },
     "execution_count": 9,
     "metadata": {},
     "output_type": "execute_result"
    }
   ],
   "source": [
    "a[(3,1),:]"
   ]
  },
  {
   "cell_type": "code",
   "execution_count": null,
   "id": "3b31382c",
   "metadata": {},
   "outputs": [],
   "source": []
  },
  {
   "cell_type": "code",
   "execution_count": null,
   "id": "c18196e3",
   "metadata": {},
   "outputs": [],
   "source": []
  },
  {
   "cell_type": "markdown",
   "id": "265c995d",
   "metadata": {},
   "source": [
    "### Statisctical parameters"
   ]
  },
  {
   "cell_type": "code",
   "execution_count": 10,
   "id": "143f13ef",
   "metadata": {},
   "outputs": [
    {
     "data": {
      "text/plain": [
       "array([[7.38905610e+00, 2.00855369e+01, 1.09663316e+03],\n",
       "       [2.98095799e+03, 1.25236317e+29, 5.45981500e+01],\n",
       "       [3.26901737e+06, 7.01673591e+20, 2.45124554e+40],\n",
       "       [2.09165950e+24, 2.00855369e+01, 3.18559318e+16]])"
      ]
     },
     "execution_count": 10,
     "metadata": {},
     "output_type": "execute_result"
    }
   ],
   "source": [
    "np.exp(a)"
   ]
  },
  {
   "cell_type": "code",
   "execution_count": 11,
   "id": "a55712d2",
   "metadata": {},
   "outputs": [
    {
     "data": {
      "text/plain": [
       "array([[1.41421356, 1.73205081, 2.64575131],\n",
       "       [2.82842712, 8.18535277, 2.        ],\n",
       "       [3.87298335, 6.92820323, 9.64365076],\n",
       "       [7.48331477, 1.73205081, 6.164414  ]])"
      ]
     },
     "execution_count": 11,
     "metadata": {},
     "output_type": "execute_result"
    }
   ],
   "source": [
    "np.sqrt(a)"
   ]
  },
  {
   "cell_type": "code",
   "execution_count": 22,
   "id": "d5d9c731",
   "metadata": {},
   "outputs": [
    {
     "data": {
      "text/plain": [
       "array([[0.69314718, 1.09861229, 1.94591015],\n",
       "       [2.07944154, 4.20469262, 1.38629436],\n",
       "       [2.7080502 , 3.87120101, 4.53259949],\n",
       "       [4.02535169, 1.09861229, 3.63758616]])"
      ]
     },
     "execution_count": 22,
     "metadata": {},
     "output_type": "execute_result"
    }
   ],
   "source": [
    "b=np.log(a)\n",
    "b"
   ]
  },
  {
   "cell_type": "code",
   "execution_count": 13,
   "id": "0c2d87a6",
   "metadata": {},
   "outputs": [
    {
     "data": {
      "text/plain": [
       "93"
      ]
     },
     "execution_count": 13,
     "metadata": {},
     "output_type": "execute_result"
    }
   ],
   "source": [
    "np.max(a)"
   ]
  },
  {
   "cell_type": "code",
   "execution_count": 14,
   "id": "a86779db",
   "metadata": {},
   "outputs": [
    {
     "data": {
      "text/plain": [
       "2"
      ]
     },
     "execution_count": 14,
     "metadata": {},
     "output_type": "execute_result"
    }
   ],
   "source": [
    "np.min(a)"
   ]
  },
  {
   "cell_type": "code",
   "execution_count": 15,
   "id": "61929d8f",
   "metadata": {},
   "outputs": [
    {
     "data": {
      "text/plain": [
       "8"
      ]
     },
     "execution_count": 15,
     "metadata": {},
     "output_type": "execute_result"
    }
   ],
   "source": [
    "np.argmax(a)"
   ]
  },
  {
   "cell_type": "code",
   "execution_count": 16,
   "id": "dcd39894",
   "metadata": {},
   "outputs": [
    {
     "data": {
      "text/plain": [
       "0"
      ]
     },
     "execution_count": 16,
     "metadata": {},
     "output_type": "execute_result"
    }
   ],
   "source": [
    "np.argmin(a)"
   ]
  },
  {
   "cell_type": "code",
   "execution_count": 17,
   "id": "c1afdc20",
   "metadata": {},
   "outputs": [
    {
     "data": {
      "text/plain": [
       "array([[   4,    9,   49],\n",
       "       [  64, 4489,   16],\n",
       "       [ 225, 2304, 8649],\n",
       "       [3136,    9, 1444]], dtype=int32)"
      ]
     },
     "execution_count": 17,
     "metadata": {},
     "output_type": "execute_result"
    }
   ],
   "source": [
    "np.square(a)"
   ]
  },
  {
   "cell_type": "code",
   "execution_count": 18,
   "id": "bd4d3d2a",
   "metadata": {},
   "outputs": [
    {
     "data": {
      "text/plain": [
       "29.63200221982233"
      ]
     },
     "execution_count": 18,
     "metadata": {},
     "output_type": "execute_result"
    }
   ],
   "source": [
    "np.std(a)"
   ]
  },
  {
   "cell_type": "code",
   "execution_count": 19,
   "id": "879cfe4f",
   "metadata": {},
   "outputs": [
    {
     "data": {
      "text/plain": [
       "878.0555555555555"
      ]
     },
     "execution_count": 19,
     "metadata": {},
     "output_type": "execute_result"
    }
   ],
   "source": [
    "np.var(a)"
   ]
  },
  {
   "cell_type": "code",
   "execution_count": 20,
   "id": "8e77fa47",
   "metadata": {},
   "outputs": [
    {
     "data": {
      "text/plain": [
       "28.666666666666668"
      ]
     },
     "execution_count": 20,
     "metadata": {},
     "output_type": "execute_result"
    }
   ],
   "source": [
    "np.mean(a)"
   ]
  },
  {
   "cell_type": "code",
   "execution_count": 23,
   "id": "dfb3e617",
   "metadata": {},
   "outputs": [
    {
     "data": {
      "text/plain": [
       "array([[0.693, 1.099, 1.946],\n",
       "       [2.079, 4.205, 1.386],\n",
       "       [2.708, 3.871, 4.533],\n",
       "       [4.025, 1.099, 3.638]])"
      ]
     },
     "execution_count": 23,
     "metadata": {},
     "output_type": "execute_result"
    }
   ],
   "source": [
    "np.round(b,decimals=3)"
   ]
  },
  {
   "cell_type": "code",
   "execution_count": 24,
   "id": "4224d5c7",
   "metadata": {},
   "outputs": [
    {
     "data": {
      "text/plain": [
       "array([[ 2.69314718,  4.09861229,  8.94591015],\n",
       "       [10.07944154, 71.20469262,  5.38629436],\n",
       "       [17.7080502 , 51.87120101, 97.53259949],\n",
       "       [60.02535169,  4.09861229, 41.63758616]])"
      ]
     },
     "execution_count": 24,
     "metadata": {},
     "output_type": "execute_result"
    }
   ],
   "source": [
    "c=a+b\n",
    "c"
   ]
  },
  {
   "cell_type": "code",
   "execution_count": 27,
   "id": "c8dbb6a0",
   "metadata": {},
   "outputs": [
    {
     "data": {
      "text/plain": [
       "array(['baseball', 'cricket', 'fball', 'football', 'volleyball'],\n",
       "      dtype='<U10')"
      ]
     },
     "execution_count": 27,
     "metadata": {},
     "output_type": "execute_result"
    }
   ],
   "source": [
    "s=np.array([\"fball\",\"football\",\"cricket\",\"fball\",\"baseball\",\"volleyball\"])\n",
    "np.unique(s)"
   ]
  },
  {
   "cell_type": "code",
   "execution_count": null,
   "id": "5ad97687",
   "metadata": {},
   "outputs": [],
   "source": []
  }
 ],
 "metadata": {
  "kernelspec": {
   "display_name": "Python 3 (ipykernel)",
   "language": "python",
   "name": "python3"
  },
  "language_info": {
   "codemirror_mode": {
    "name": "ipython",
    "version": 3
   },
   "file_extension": ".py",
   "mimetype": "text/x-python",
   "name": "python",
   "nbconvert_exporter": "python",
   "pygments_lexer": "ipython3",
   "version": "3.9.13"
  }
 },
 "nbformat": 4,
 "nbformat_minor": 5
}
