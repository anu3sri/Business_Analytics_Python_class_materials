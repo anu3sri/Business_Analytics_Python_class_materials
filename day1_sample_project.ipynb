{
 "cells": [
  {
   "cell_type": "code",
   "execution_count": 1,
   "id": "d3258237",
   "metadata": {},
   "outputs": [
    {
     "name": "stdout",
     "output_type": "stream",
     "text": [
      "hello\n"
     ]
    }
   ],
   "source": [
    "print(\"hello\")"
   ]
  },
  {
   "cell_type": "code",
   "execution_count": null,
   "id": "8fc7f38e",
   "metadata": {},
   "outputs": [],
   "source": []
  },
  {
   "cell_type": "markdown",
   "id": "875d0e20",
   "metadata": {},
   "source": [
    "### ANUSRI"
   ]
  },
  {
   "cell_type": "code",
   "execution_count": 2,
   "id": "b745f03e",
   "metadata": {},
   "outputs": [
    {
     "name": "stdout",
     "output_type": "stream",
     "text": [
      "Anusri\n"
     ]
    }
   ],
   "source": [
    "print(\"Anusri\")"
   ]
  },
  {
   "cell_type": "markdown",
   "id": "bab65712",
   "metadata": {},
   "source": [
    "## basics"
   ]
  },
  {
   "cell_type": "markdown",
   "id": "ec811e72",
   "metadata": {},
   "source": [
    "### Basics of python"
   ]
  },
  {
   "cell_type": "markdown",
   "id": "620d916c",
   "metadata": {},
   "source": [
    "# Basics"
   ]
  },
  {
   "cell_type": "markdown",
   "id": "08d9a491",
   "metadata": {},
   "source": [
    "#### Basics"
   ]
  },
  {
   "cell_type": "markdown",
   "id": "513203e7",
   "metadata": {},
   "source": [
    "#### Practise for assigning variables "
   ]
  },
  {
   "cell_type": "code",
   "execution_count": 3,
   "id": "61d22146",
   "metadata": {},
   "outputs": [
    {
     "data": {
      "text/plain": [
       "10"
      ]
     },
     "execution_count": 3,
     "metadata": {},
     "output_type": "execute_result"
    }
   ],
   "source": [
    "x=10\n",
    "x"
   ]
  },
  {
   "cell_type": "code",
   "execution_count": 2,
   "id": "ffbf2259",
   "metadata": {},
   "outputs": [
    {
     "name": "stdout",
     "output_type": "stream",
     "text": [
      "10\n"
     ]
    }
   ],
   "source": [
    "print(x)"
   ]
  },
  {
   "cell_type": "code",
   "execution_count": 4,
   "id": "5e70a54b",
   "metadata": {},
   "outputs": [],
   "source": [
    "name = \"Anusri\"\n",
    "gender = \"Female\"\n",
    "Experience = 0"
   ]
  },
  {
   "cell_type": "code",
   "execution_count": 5,
   "id": "93ce7cce",
   "metadata": {},
   "outputs": [
    {
     "data": {
      "text/plain": [
       "('Anusri', 'Female', 0)"
      ]
     },
     "execution_count": 5,
     "metadata": {},
     "output_type": "execute_result"
    }
   ],
   "source": [
    "(name, gender, Experience)"
   ]
  },
  {
   "cell_type": "code",
   "execution_count": 7,
   "id": "8e15b63a",
   "metadata": {},
   "outputs": [],
   "source": [
    "y = 23\n",
    "x = \"Anusri\""
   ]
  },
  {
   "cell_type": "code",
   "execution_count": 8,
   "id": "5359e085",
   "metadata": {},
   "outputs": [
    {
     "data": {
      "text/plain": [
       "('Anusri', 23)"
      ]
     },
     "execution_count": 8,
     "metadata": {},
     "output_type": "execute_result"
    }
   ],
   "source": [
    "x,y\n"
   ]
  },
  {
   "cell_type": "code",
   "execution_count": 9,
   "id": "5702910b",
   "metadata": {},
   "outputs": [],
   "source": [
    "x,y,z=2,4,7"
   ]
  },
  {
   "cell_type": "code",
   "execution_count": 10,
   "id": "c30e648c",
   "metadata": {},
   "outputs": [
    {
     "data": {
      "text/plain": [
       "2"
      ]
     },
     "execution_count": 10,
     "metadata": {},
     "output_type": "execute_result"
    }
   ],
   "source": [
    "x\n"
   ]
  },
  {
   "cell_type": "code",
   "execution_count": 11,
   "id": "f9f4c431",
   "metadata": {},
   "outputs": [
    {
     "data": {
      "text/plain": [
       "7"
      ]
     },
     "execution_count": 11,
     "metadata": {},
     "output_type": "execute_result"
    }
   ],
   "source": [
    "z"
   ]
  },
  {
   "cell_type": "markdown",
   "id": "7998fee1",
   "metadata": {},
   "source": []
  },
  {
   "cell_type": "markdown",
   "id": "dd439bb1",
   "metadata": {},
   "source": [
    "### Rules for naming the variables"
   ]
  },
  {
   "cell_type": "code",
   "execution_count": 16,
   "id": "4fc92896",
   "metadata": {},
   "outputs": [
    {
     "data": {
      "text/plain": [
       "'BA with Python'"
      ]
     },
     "execution_count": 16,
     "metadata": {},
     "output_type": "execute_result"
    }
   ],
   "source": [
    "Books=\"BA with Python\"\n",
    "Books"
   ]
  },
  {
   "cell_type": "code",
   "execution_count": 17,
   "id": "ecf73592",
   "metadata": {},
   "outputs": [
    {
     "ename": "SyntaxError",
     "evalue": "invalid syntax (1678535513.py, line 1)",
     "output_type": "error",
     "traceback": [
      "\u001b[1;36m  File \u001b[1;32m\"C:\\Users\\UDHAY\\AppData\\Local\\Temp\\ipykernel_17816\\1678535513.py\"\u001b[1;36m, line \u001b[1;32m1\u001b[0m\n\u001b[1;33m    4books= \"BA with Python\"\u001b[0m\n\u001b[1;37m     ^\u001b[0m\n\u001b[1;31mSyntaxError\u001b[0m\u001b[1;31m:\u001b[0m invalid syntax\n"
     ]
    }
   ],
   "source": [
    "4books= \"BA with Python\"\n",
    "4books"
   ]
  },
  {
   "cell_type": "code",
   "execution_count": 18,
   "id": "0cd8b386",
   "metadata": {},
   "outputs": [
    {
     "ename": "SyntaxError",
     "evalue": "cannot assign to operator (1171997845.py, line 1)",
     "output_type": "error",
     "traceback": [
      "\u001b[1;36m  File \u001b[1;32m\"C:\\Users\\UDHAY\\AppData\\Local\\Temp\\ipykernel_17816\\1171997845.py\"\u001b[1;36m, line \u001b[1;32m1\u001b[0m\n\u001b[1;33m    books*list = \"BA with Python\"\u001b[0m\n\u001b[1;37m    ^\u001b[0m\n\u001b[1;31mSyntaxError\u001b[0m\u001b[1;31m:\u001b[0m cannot assign to operator\n"
     ]
    }
   ],
   "source": [
    "books*list = \"BA with Python\"\n",
    "books*list"
   ]
  },
  {
   "cell_type": "code",
   "execution_count": 19,
   "id": "8515859c",
   "metadata": {},
   "outputs": [
    {
     "data": {
      "text/plain": [
       "'BA with Python'"
      ]
     },
     "execution_count": 19,
     "metadata": {},
     "output_type": "execute_result"
    }
   ],
   "source": [
    "books_list= \"BA with Python\"\n",
    "books_list"
   ]
  },
  {
   "cell_type": "code",
   "execution_count": 20,
   "id": "d40da765",
   "metadata": {},
   "outputs": [
    {
     "data": {
      "text/plain": [
       "'BA with Python'"
      ]
     },
     "execution_count": 20,
     "metadata": {},
     "output_type": "execute_result"
    }
   ],
   "source": [
    "_books=\"BA with Python\"\n",
    "_books"
   ]
  },
  {
   "cell_type": "code",
   "execution_count": 21,
   "id": "bede998e",
   "metadata": {},
   "outputs": [
    {
     "ename": "SyntaxError",
     "evalue": "invalid syntax (3587324139.py, line 1)",
     "output_type": "error",
     "traceback": [
      "\u001b[1;36m  File \u001b[1;32m\"C:\\Users\\UDHAY\\AppData\\Local\\Temp\\ipykernel_17816\\3587324139.py\"\u001b[1;36m, line \u001b[1;32m1\u001b[0m\n\u001b[1;33m    book name = \"BA with Python\"\u001b[0m\n\u001b[1;37m         ^\u001b[0m\n\u001b[1;31mSyntaxError\u001b[0m\u001b[1;31m:\u001b[0m invalid syntax\n"
     ]
    }
   ],
   "source": [
    "book name = \"BA with Python\"\n",
    "book name"
   ]
  },
  {
   "cell_type": "code",
   "execution_count": 22,
   "id": "399dc67d",
   "metadata": {},
   "outputs": [
    {
     "data": {
      "text/plain": [
       "'BA with Python'"
      ]
     },
     "execution_count": 22,
     "metadata": {},
     "output_type": "execute_result"
    }
   ],
   "source": [
    "b8ooks = \"BA with Python\"\n",
    "b8ooks"
   ]
  },
  {
   "cell_type": "code",
   "execution_count": null,
   "id": "1cdedc97",
   "metadata": {},
   "outputs": [],
   "source": []
  }
 ],
 "metadata": {
  "kernelspec": {
   "display_name": "Python 3 (ipykernel)",
   "language": "python",
   "name": "python3"
  },
  "language_info": {
   "codemirror_mode": {
    "name": "ipython",
    "version": 3
   },
   "file_extension": ".py",
   "mimetype": "text/x-python",
   "name": "python",
   "nbconvert_exporter": "python",
   "pygments_lexer": "ipython3",
   "version": "3.9.13"
  }
 },
 "nbformat": 4,
 "nbformat_minor": 5
}
