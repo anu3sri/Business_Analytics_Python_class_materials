{
 "cells": [
  {
   "cell_type": "markdown",
   "id": "00419d86",
   "metadata": {},
   "source": [
    "### DATA STRUCTURES"
   ]
  },
  {
   "cell_type": "markdown",
   "id": "3f4e4c2a",
   "metadata": {},
   "source": [
    "### List"
   ]
  },
  {
   "cell_type": "markdown",
   "id": "1c053149",
   "metadata": {},
   "source": [
    "#### List can be retrived using index\n",
    "#### List is Mutable, Heterogenous\n",
    "#### List is separated by comma and written in [ ]"
   ]
  },
  {
   "cell_type": "code",
   "execution_count": 2,
   "id": "94e77be8",
   "metadata": {},
   "outputs": [
    {
     "data": {
      "text/plain": [
       "[1, 3.6, 'hi', 14, 1]"
      ]
     },
     "execution_count": 2,
     "metadata": {},
     "output_type": "execute_result"
    }
   ],
   "source": [
    "sample_list= [1,3.6,'hi',14,1]\n",
    "sample_list\n"
   ]
  },
  {
   "cell_type": "code",
   "execution_count": 3,
   "id": "0ff03997",
   "metadata": {},
   "outputs": [
    {
     "data": {
      "text/plain": [
       "list"
      ]
     },
     "execution_count": 3,
     "metadata": {},
     "output_type": "execute_result"
    }
   ],
   "source": [
    "type(sample_list)"
   ]
  },
  {
   "cell_type": "markdown",
   "id": "929a335e",
   "metadata": {},
   "source": [
    "#### retriving the elements of list using indexing"
   ]
  },
  {
   "cell_type": "code",
   "execution_count": 4,
   "id": "ac8c0fb1",
   "metadata": {},
   "outputs": [
    {
     "data": {
      "text/plain": [
       "1"
      ]
     },
     "execution_count": 4,
     "metadata": {},
     "output_type": "execute_result"
    }
   ],
   "source": [
    "sample_list[0]"
   ]
  },
  {
   "cell_type": "code",
   "execution_count": 5,
   "id": "cbd29695",
   "metadata": {},
   "outputs": [
    {
     "data": {
      "text/plain": [
       "1"
      ]
     },
     "execution_count": 5,
     "metadata": {},
     "output_type": "execute_result"
    }
   ],
   "source": [
    "sample_list[-1]"
   ]
  },
  {
   "cell_type": "code",
   "execution_count": 6,
   "id": "8dd4993f",
   "metadata": {},
   "outputs": [
    {
     "data": {
      "text/plain": [
       "14"
      ]
     },
     "execution_count": 6,
     "metadata": {},
     "output_type": "execute_result"
    }
   ],
   "source": [
    "sample_list[-2]"
   ]
  },
  {
   "cell_type": "code",
   "execution_count": 7,
   "id": "878fe512",
   "metadata": {},
   "outputs": [
    {
     "data": {
      "text/plain": [
       "3.6"
      ]
     },
     "execution_count": 7,
     "metadata": {},
     "output_type": "execute_result"
    }
   ],
   "source": [
    "sample_list[-4]"
   ]
  },
  {
   "cell_type": "code",
   "execution_count": 8,
   "id": "30714762",
   "metadata": {},
   "outputs": [
    {
     "data": {
      "text/plain": [
       "14"
      ]
     },
     "execution_count": 8,
     "metadata": {},
     "output_type": "execute_result"
    }
   ],
   "source": [
    "sample_list[3]"
   ]
  },
  {
   "cell_type": "markdown",
   "id": "7b94f6f3",
   "metadata": {},
   "source": [
    "#### Changing the elemnets of the list (mutable)"
   ]
  },
  {
   "cell_type": "code",
   "execution_count": 10,
   "id": "016ead3a",
   "metadata": {},
   "outputs": [],
   "source": [
    "sample_list[3]=50"
   ]
  },
  {
   "cell_type": "code",
   "execution_count": 11,
   "id": "71660def",
   "metadata": {},
   "outputs": [
    {
     "data": {
      "text/plain": [
       "[1, 3.6, 'hi', 50, 1]"
      ]
     },
     "execution_count": 11,
     "metadata": {},
     "output_type": "execute_result"
    }
   ],
   "source": [
    "sample_list"
   ]
  },
  {
   "cell_type": "markdown",
   "id": "4de137ac",
   "metadata": {},
   "source": [
    "### TUPLE"
   ]
  },
  {
   "cell_type": "markdown",
   "id": "e52da391",
   "metadata": {},
   "source": [
    "#### Tuple can be retrived using index\n",
    "#### Tuple is immutable, Heterogenous\n",
    "#### Tuple is separated by comma and written in ( )"
   ]
  },
  {
   "cell_type": "code",
   "execution_count": 14,
   "id": "0187b04c",
   "metadata": {},
   "outputs": [
    {
     "data": {
      "text/plain": [
       "(1, 3.6, 'hi', 14, 1)"
      ]
     },
     "execution_count": 14,
     "metadata": {},
     "output_type": "execute_result"
    }
   ],
   "source": [
    "sample_tuple= (1,3.6,'hi',14,1)\n",
    "sample_tuple"
   ]
  },
  {
   "cell_type": "code",
   "execution_count": 15,
   "id": "c389ac6b",
   "metadata": {},
   "outputs": [
    {
     "data": {
      "text/plain": [
       "tuple"
      ]
     },
     "execution_count": 15,
     "metadata": {},
     "output_type": "execute_result"
    }
   ],
   "source": [
    "type(sample_tuple)"
   ]
  },
  {
   "cell_type": "code",
   "execution_count": 17,
   "id": "d00d6525",
   "metadata": {},
   "outputs": [
    {
     "data": {
      "text/plain": [
       "(1, 3.6, 'hi', 14, 1)"
      ]
     },
     "execution_count": 17,
     "metadata": {},
     "output_type": "execute_result"
    }
   ],
   "source": [
    "sample_tuple1= 1,3.6,'hi',14,1     \n",
    "sample_tuple1\n",
    "\n"
   ]
  },
  {
   "cell_type": "code",
   "execution_count": 18,
   "id": "34e61d50",
   "metadata": {},
   "outputs": [
    {
     "data": {
      "text/plain": [
       "tuple"
      ]
     },
     "execution_count": 18,
     "metadata": {},
     "output_type": "execute_result"
    }
   ],
   "source": [
    "type(sample_tuple1)"
   ]
  },
  {
   "cell_type": "markdown",
   "id": "1e067aee",
   "metadata": {},
   "source": [
    "#### Retrieving using indexing"
   ]
  },
  {
   "cell_type": "code",
   "execution_count": 19,
   "id": "e7322172",
   "metadata": {},
   "outputs": [
    {
     "data": {
      "text/plain": [
       "'hi'"
      ]
     },
     "execution_count": 19,
     "metadata": {},
     "output_type": "execute_result"
    }
   ],
   "source": [
    "sample_tuple[-3]"
   ]
  },
  {
   "cell_type": "code",
   "execution_count": 20,
   "id": "6d4d3b84",
   "metadata": {},
   "outputs": [
    {
     "ename": "IndexError",
     "evalue": "tuple index out of range",
     "output_type": "error",
     "traceback": [
      "\u001b[1;31m---------------------------------------------------------------------------\u001b[0m",
      "\u001b[1;31mIndexError\u001b[0m                                Traceback (most recent call last)",
      "\u001b[1;32m~\\AppData\\Local\\Temp\\ipykernel_24244\\2365316155.py\u001b[0m in \u001b[0;36m<module>\u001b[1;34m\u001b[0m\n\u001b[1;32m----> 1\u001b[1;33m \u001b[0msample_tuple\u001b[0m\u001b[1;33m[\u001b[0m\u001b[1;36m7\u001b[0m\u001b[1;33m]\u001b[0m\u001b[1;33m\u001b[0m\u001b[1;33m\u001b[0m\u001b[0m\n\u001b[0m",
      "\u001b[1;31mIndexError\u001b[0m: tuple index out of range"
     ]
    }
   ],
   "source": [
    "sample_tuple[7]"
   ]
  },
  {
   "cell_type": "code",
   "execution_count": 21,
   "id": "57a77a20",
   "metadata": {},
   "outputs": [
    {
     "data": {
      "text/plain": [
       "14"
      ]
     },
     "execution_count": 21,
     "metadata": {},
     "output_type": "execute_result"
    }
   ],
   "source": [
    "sample_tuple[3]"
   ]
  },
  {
   "cell_type": "code",
   "execution_count": 22,
   "id": "ea672875",
   "metadata": {},
   "outputs": [
    {
     "ename": "TypeError",
     "evalue": "'tuple' object does not support item assignment",
     "output_type": "error",
     "traceback": [
      "\u001b[1;31m---------------------------------------------------------------------------\u001b[0m",
      "\u001b[1;31mTypeError\u001b[0m                                 Traceback (most recent call last)",
      "\u001b[1;32m~\\AppData\\Local\\Temp\\ipykernel_24244\\201050364.py\u001b[0m in \u001b[0;36m<module>\u001b[1;34m\u001b[0m\n\u001b[1;32m----> 1\u001b[1;33m \u001b[0msample_tuple\u001b[0m\u001b[1;33m[\u001b[0m\u001b[1;36m3\u001b[0m\u001b[1;33m]\u001b[0m\u001b[1;33m=\u001b[0m\u001b[1;36m4\u001b[0m\u001b[1;33m\u001b[0m\u001b[1;33m\u001b[0m\u001b[0m\n\u001b[0m",
      "\u001b[1;31mTypeError\u001b[0m: 'tuple' object does not support item assignment"
     ]
    }
   ],
   "source": [
    "sample_tuple[3]=4"
   ]
  },
  {
   "cell_type": "markdown",
   "id": "43a295ac",
   "metadata": {},
   "source": [
    "#### immutable"
   ]
  },
  {
   "cell_type": "markdown",
   "id": "00f11120",
   "metadata": {},
   "source": [
    "### SET"
   ]
  },
  {
   "cell_type": "markdown",
   "id": "d0ba05c1",
   "metadata": {},
   "source": [
    "#### Set cannot be retrived using index\n",
    "#### Set is mutable, Heterogenous\n",
    "#### Set is separated by comma and written in { }\n",
    "#### Set orders itself by checking the first character"
   ]
  },
  {
   "cell_type": "code",
   "execution_count": 24,
   "id": "de5df500",
   "metadata": {},
   "outputs": [
    {
     "data": {
      "text/plain": [
       "{1.1, 1.2, 112, 14.78, 3, 3.4, 45, 56.98, 'apple', 'bag', 'brick', 'king'}"
      ]
     },
     "execution_count": 24,
     "metadata": {},
     "output_type": "execute_result"
    }
   ],
   "source": [
    "sample_set={1.1, 3, 56.98,45,112, 45,14.78,3.4,3, 1.2, \"apple\", \"king\", \"brick\", \"bag\", }\n",
    "sample_set"
   ]
  },
  {
   "cell_type": "code",
   "execution_count": 25,
   "id": "75c12f74",
   "metadata": {},
   "outputs": [
    {
     "ename": "TypeError",
     "evalue": "'set' object is not subscriptable",
     "output_type": "error",
     "traceback": [
      "\u001b[1;31m---------------------------------------------------------------------------\u001b[0m",
      "\u001b[1;31mTypeError\u001b[0m                                 Traceback (most recent call last)",
      "\u001b[1;32m~\\AppData\\Local\\Temp\\ipykernel_24244\\3022664468.py\u001b[0m in \u001b[0;36m<module>\u001b[1;34m\u001b[0m\n\u001b[1;32m----> 1\u001b[1;33m \u001b[0msample_set\u001b[0m\u001b[1;33m[\u001b[0m\u001b[1;36m6\u001b[0m\u001b[1;33m]\u001b[0m\u001b[1;33m\u001b[0m\u001b[1;33m\u001b[0m\u001b[0m\n\u001b[0m",
      "\u001b[1;31mTypeError\u001b[0m: 'set' object is not subscriptable"
     ]
    }
   ],
   "source": [
    "sample_set[6]"
   ]
  },
  {
   "cell_type": "code",
   "execution_count": 26,
   "id": "2dfbd01e",
   "metadata": {},
   "outputs": [
    {
     "data": {
      "text/plain": [
       "set"
      ]
     },
     "execution_count": 26,
     "metadata": {},
     "output_type": "execute_result"
    }
   ],
   "source": [
    "type(sample_set)"
   ]
  },
  {
   "cell_type": "code",
   "execution_count": 27,
   "id": "e04a6d43",
   "metadata": {},
   "outputs": [
    {
     "ename": "TypeError",
     "evalue": "'set' object does not support item assignment",
     "output_type": "error",
     "traceback": [
      "\u001b[1;31m---------------------------------------------------------------------------\u001b[0m",
      "\u001b[1;31mTypeError\u001b[0m                                 Traceback (most recent call last)",
      "\u001b[1;32m~\\AppData\\Local\\Temp\\ipykernel_24244\\3515072761.py\u001b[0m in \u001b[0;36m<module>\u001b[1;34m\u001b[0m\n\u001b[1;32m----> 1\u001b[1;33m \u001b[0msample_set\u001b[0m\u001b[1;33m[\u001b[0m\u001b[1;36m0\u001b[0m\u001b[1;33m]\u001b[0m\u001b[1;33m=\u001b[0m\u001b[1;34m\"hello\"\u001b[0m\u001b[1;33m\u001b[0m\u001b[1;33m\u001b[0m\u001b[0m\n\u001b[0m",
      "\u001b[1;31mTypeError\u001b[0m: 'set' object does not support item assignment"
     ]
    }
   ],
   "source": [
    "sample_set[0]=\"hello\""
   ]
  },
  {
   "cell_type": "code",
   "execution_count": 31,
   "id": "85887ec6",
   "metadata": {},
   "outputs": [],
   "source": [
    "sample_set.add(1000)"
   ]
  },
  {
   "cell_type": "code",
   "execution_count": 32,
   "id": "10eb5ac7",
   "metadata": {},
   "outputs": [
    {
     "data": {
      "text/plain": [
       "{1.1,\n",
       " 1.2,\n",
       " 1000,\n",
       " 112,\n",
       " 14.78,\n",
       " 3,\n",
       " 3.4,\n",
       " 45,\n",
       " 56.98,\n",
       " 'apple',\n",
       " 'bag',\n",
       " 'brick',\n",
       " 'king'}"
      ]
     },
     "execution_count": 32,
     "metadata": {},
     "output_type": "execute_result"
    }
   ],
   "source": [
    "sample_set"
   ]
  },
  {
   "cell_type": "code",
   "execution_count": 33,
   "id": "60db5fe5",
   "metadata": {},
   "outputs": [
    {
     "data": {
      "text/plain": [
       "{1.1, 1.2, 112, 14.78, 3, 3.4, 45, 56.98, 'apple', 'bag', 'brick', 'king'}"
      ]
     },
     "execution_count": 33,
     "metadata": {},
     "output_type": "execute_result"
    }
   ],
   "source": [
    "sample_set.remove(1000)\n",
    "sample_set"
   ]
  },
  {
   "cell_type": "markdown",
   "id": "c8cdd65f",
   "metadata": {},
   "source": [
    "### DICTIONARY "
   ]
  },
  {
   "cell_type": "markdown",
   "id": "4dc16013",
   "metadata": {},
   "source": [
    "#### Dictionary can be retrived using KEYS\n",
    "#### Dictionary is Mutable, Heterogenous\n",
    "#### Dictionary is separated by comma and written in { }\n",
    "#### {Key1: value1, Key2: value2, Key3: Value3}\n",
    "#### Key is unique \n",
    "#### Value can be duplicated\n",
    "#### Value can be retrived using Key\n",
    "#### Key cannot be retrived using value"
   ]
  },
  {
   "cell_type": "code",
   "execution_count": 34,
   "id": "099dd5ae",
   "metadata": {},
   "outputs": [
    {
     "data": {
      "text/plain": [
       "{1: 4, 2: 'dog', 3: 0.76, 4: 'Anu', 5: 86}"
      ]
     },
     "execution_count": 34,
     "metadata": {},
     "output_type": "execute_result"
    }
   ],
   "source": [
    "sample_dict={1:4, 2:\"dog\", 3:0.76, 4: \"Anu\", 5: 86}\n",
    "sample_dict"
   ]
  },
  {
   "cell_type": "code",
   "execution_count": 35,
   "id": "13f63f6a",
   "metadata": {},
   "outputs": [
    {
     "data": {
      "text/plain": [
       "'Anu'"
      ]
     },
     "execution_count": 35,
     "metadata": {},
     "output_type": "execute_result"
    }
   ],
   "source": [
    "sample_dict[4]"
   ]
  },
  {
   "cell_type": "code",
   "execution_count": 36,
   "id": "0e4190d8",
   "metadata": {},
   "outputs": [
    {
     "ename": "KeyError",
     "evalue": "0.76",
     "output_type": "error",
     "traceback": [
      "\u001b[1;31m---------------------------------------------------------------------------\u001b[0m",
      "\u001b[1;31mKeyError\u001b[0m                                  Traceback (most recent call last)",
      "\u001b[1;32m~\\AppData\\Local\\Temp\\ipykernel_24244\\94041104.py\u001b[0m in \u001b[0;36m<module>\u001b[1;34m\u001b[0m\n\u001b[1;32m----> 1\u001b[1;33m \u001b[0msample_dict\u001b[0m\u001b[1;33m[\u001b[0m\u001b[1;36m0.76\u001b[0m\u001b[1;33m]\u001b[0m\u001b[1;33m\u001b[0m\u001b[1;33m\u001b[0m\u001b[0m\n\u001b[0m",
      "\u001b[1;31mKeyError\u001b[0m: 0.76"
     ]
    }
   ],
   "source": [
    "sample_dict[0.76]"
   ]
  },
  {
   "cell_type": "code",
   "execution_count": 38,
   "id": "ad1d1e2f",
   "metadata": {},
   "outputs": [
    {
     "data": {
      "text/plain": [
       "{1: 4, 2: 'dog', 3: 0.76, 4: 'Anu', 5: 1000}"
      ]
     },
     "execution_count": 38,
     "metadata": {},
     "output_type": "execute_result"
    }
   ],
   "source": [
    "sample_dict[5]=1000\n",
    "sample_dict"
   ]
  },
  {
   "cell_type": "code",
   "execution_count": 39,
   "id": "d75daf68",
   "metadata": {},
   "outputs": [
    {
     "data": {
      "text/plain": [
       "{1: 4, 2: 'dog', 3: 0.76, 4: 'Anu', 5: 1000, 8: 3.89}"
      ]
     },
     "execution_count": 39,
     "metadata": {},
     "output_type": "execute_result"
    }
   ],
   "source": [
    "sample_dict[8]=3.89\n",
    "sample_dict"
   ]
  },
  {
   "cell_type": "code",
   "execution_count": null,
   "id": "01612928",
   "metadata": {},
   "outputs": [],
   "source": []
  }
 ],
 "metadata": {
  "kernelspec": {
   "display_name": "Python 3 (ipykernel)",
   "language": "python",
   "name": "python3"
  },
  "language_info": {
   "codemirror_mode": {
    "name": "ipython",
    "version": 3
   },
   "file_extension": ".py",
   "mimetype": "text/x-python",
   "name": "python",
   "nbconvert_exporter": "python",
   "pygments_lexer": "ipython3",
   "version": "3.9.13"
  }
 },
 "nbformat": 4,
 "nbformat_minor": 5
}
